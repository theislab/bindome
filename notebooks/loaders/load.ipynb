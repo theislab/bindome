{
 "cells": [
  {
   "cell_type": "code",
   "execution_count": 4,
   "metadata": {},
   "outputs": [
    {
     "name": "stdout",
     "output_type": "stream",
     "text": [
      "The autoreload extension is already loaded. To reload it, use:\n",
      "  %reload_ext autoreload\n"
     ]
    }
   ],
   "source": [
    "%load_ext autoreload\n",
    "import os\n",
    "from bindome.datasets.loader import FASTQLoader"
   ]
  },
  {
   "attachments": {},
   "cell_type": "markdown",
   "metadata": {},
   "source": [
    "Fetch DOIs (directories that begin with `'10'`) in the given directory."
   ]
  },
  {
   "cell_type": "code",
   "execution_count": 5,
   "metadata": {},
   "outputs": [
    {
     "data": {
      "text/plain": [
       "['10_1038_nature15518',\n",
       " '10_1038_s41587_022_01307_0',\n",
       " '10_1016_j_cell_2012_12_009',\n",
       " '10_15252_msb_20167238']"
      ]
     },
     "execution_count": 5,
     "metadata": {},
     "output_type": "execute_result"
    }
   ],
   "source": [
    "dois = [d for d in os.listdir('.') if d[:2] == '10']\n",
    "dois"
   ]
  },
  {
   "cell_type": "code",
   "execution_count": 6,
   "metadata": {},
   "outputs": [
    {
     "name": "stdout",
     "output_type": "stream",
     "text": [
      "*** Loading for  10_1038_nature15518\n",
      "Downloading PRJEB7934.tsv...\n",
      "Downloading from ftp.sra.ebi.ac.uk/vol1/run/ERR135/ERR1359225/LoVo_HOXB13_sorted.bam.fastq.gz\n",
      "Done.\n",
      "[AnnData object with n_obs × n_vars = 312 × 1\n",
      "    uns: 'author', 'doi', 'year', 'organism']\n",
      "*** Loading for  10_1038_s41587_022_01307_0\n",
      "Downloading PRJEB7372.tsv...\n",
      "Downloading from ftp.sra.ebi.ac.uk/vol1/run/ERR636/ERR636571/K562_GR_chip-seq_rep1.fq.gz\n",
      "Done.\n",
      "[AnnData object with n_obs × n_vars = 977 × 1\n",
      "    uns: 'author', 'doi', 'year', 'organism']\n",
      "*** Loading for  10_1016_j_cell_2012_12_009\n",
      "Downloading PRJEB3291.tsv...\n",
      "Downloading PRJEB3289.tsv...\n",
      "Downloading from ftp.sra.ebi.ac.uk/vol1/run/ERR181/ERR181163/LoVo_E2F7_Rabbit_0.fastq.gz\n"
     ]
    },
    {
     "ename": "KeyboardInterrupt",
     "evalue": "",
     "output_type": "error",
     "traceback": [
      "\u001b[0;31m---------------------------------------------------------------------------\u001b[0m",
      "\u001b[0;31mKeyboardInterrupt\u001b[0m                         Traceback (most recent call last)",
      "Cell \u001b[0;32mIn[6], line 11\u001b[0m\n\u001b[1;32m      7\u001b[0m urls \u001b[39m=\u001b[39m loader\u001b[39m.\u001b[39mfetch_ENA_urls(\u001b[39mf\u001b[39m\u001b[39m'\u001b[39m\u001b[39m{\u001b[39;00mhome_dir\u001b[39m}\u001b[39;00m\u001b[39m/info.yaml\u001b[39m\u001b[39m'\u001b[39m)\n\u001b[1;32m      9\u001b[0m urls \u001b[39m=\u001b[39m urls[:\u001b[39m1\u001b[39m] \u001b[39m# first one for testing\u001b[39;00m\n\u001b[0;32m---> 11\u001b[0m adatas \u001b[39m=\u001b[39m [loader\u001b[39m.\u001b[39mload(url) \u001b[39mfor\u001b[39;00m url \u001b[39min\u001b[39;00m urls]\n\u001b[1;32m     13\u001b[0m info \u001b[39m=\u001b[39m loader\u001b[39m.\u001b[39mread_yaml(\u001b[39mf\u001b[39m\u001b[39m'\u001b[39m\u001b[39m{\u001b[39;00mdoi\u001b[39m}\u001b[39;00m\u001b[39m/info.yaml\u001b[39m\u001b[39m'\u001b[39m)\n\u001b[1;32m     14\u001b[0m \u001b[39mfor\u001b[39;00m adata \u001b[39min\u001b[39;00m adatas:\n",
      "Cell \u001b[0;32mIn[6], line 11\u001b[0m, in \u001b[0;36m<listcomp>\u001b[0;34m(.0)\u001b[0m\n\u001b[1;32m      7\u001b[0m urls \u001b[39m=\u001b[39m loader\u001b[39m.\u001b[39mfetch_ENA_urls(\u001b[39mf\u001b[39m\u001b[39m'\u001b[39m\u001b[39m{\u001b[39;00mhome_dir\u001b[39m}\u001b[39;00m\u001b[39m/info.yaml\u001b[39m\u001b[39m'\u001b[39m)\n\u001b[1;32m      9\u001b[0m urls \u001b[39m=\u001b[39m urls[:\u001b[39m1\u001b[39m] \u001b[39m# first one for testing\u001b[39;00m\n\u001b[0;32m---> 11\u001b[0m adatas \u001b[39m=\u001b[39m [loader\u001b[39m.\u001b[39;49mload(url) \u001b[39mfor\u001b[39;00m url \u001b[39min\u001b[39;00m urls]\n\u001b[1;32m     13\u001b[0m info \u001b[39m=\u001b[39m loader\u001b[39m.\u001b[39mread_yaml(\u001b[39mf\u001b[39m\u001b[39m'\u001b[39m\u001b[39m{\u001b[39;00mdoi\u001b[39m}\u001b[39;00m\u001b[39m/info.yaml\u001b[39m\u001b[39m'\u001b[39m)\n\u001b[1;32m     14\u001b[0m \u001b[39mfor\u001b[39;00m adata \u001b[39min\u001b[39;00m adatas:\n",
      "File \u001b[0;32m/opt/homebrew/lib/python3.10/site-packages/bindome/datasets/loader.py:38\u001b[0m, in \u001b[0;36mFASTQLoader.load\u001b[0;34m(self, url)\u001b[0m\n\u001b[1;32m     37\u001b[0m \u001b[39mdef\u001b[39;00m \u001b[39mload\u001b[39m(\u001b[39mself\u001b[39m, url):\n\u001b[0;32m---> 38\u001b[0m     \u001b[39msuper\u001b[39;49m()\u001b[39m.\u001b[39;49mload(url)\n\u001b[1;32m     40\u001b[0m     seqlen \u001b[39m=\u001b[39m \u001b[39mset\u001b[39m()\n\u001b[1;32m     41\u001b[0m     reads \u001b[39m=\u001b[39m []\n",
      "File \u001b[0;32m/opt/homebrew/lib/python3.10/site-packages/bindome/datasets/loader.py:29\u001b[0m, in \u001b[0;36mLoader.load\u001b[0;34m(self, url)\u001b[0m\n\u001b[1;32m     27\u001b[0m \u001b[39mif\u001b[39;00m \u001b[39mself\u001b[39m\u001b[39m.\u001b[39mfilename \u001b[39mnot\u001b[39;00m \u001b[39min\u001b[39;00m os\u001b[39m.\u001b[39mlistdir(\u001b[39mself\u001b[39m\u001b[39m.\u001b[39mdata_dir):\n\u001b[1;32m     28\u001b[0m     \u001b[39mprint\u001b[39m(\u001b[39m'\u001b[39m\u001b[39mDownloading from\u001b[39m\u001b[39m'\u001b[39m, url)\n\u001b[0;32m---> 29\u001b[0m     urllib\u001b[39m.\u001b[39;49mrequest\u001b[39m.\u001b[39;49murlretrieve(\u001b[39mf\u001b[39;49m\u001b[39m'\u001b[39;49m\u001b[39mftp://\u001b[39;49m\u001b[39m{\u001b[39;49;00murl\u001b[39m}\u001b[39;49;00m\u001b[39m'\u001b[39;49m, \u001b[39mf\u001b[39;49m\u001b[39m'\u001b[39;49m\u001b[39m{\u001b[39;49;00m\u001b[39mself\u001b[39;49m\u001b[39m.\u001b[39;49mdata_dir\u001b[39m}\u001b[39;49;00m\u001b[39m/\u001b[39;49m\u001b[39m{\u001b[39;49;00m\u001b[39mself\u001b[39;49m\u001b[39m.\u001b[39;49mfilename\u001b[39m}\u001b[39;49;00m\u001b[39m'\u001b[39;49m)\n\u001b[1;32m     30\u001b[0m     \u001b[39mprint\u001b[39m(\u001b[39m'\u001b[39m\u001b[39mDone.\u001b[39m\u001b[39m'\u001b[39m)\n",
      "File \u001b[0;32m/opt/homebrew/Cellar/python@3.10/3.10.10_1/Frameworks/Python.framework/Versions/3.10/lib/python3.10/urllib/request.py:270\u001b[0m, in \u001b[0;36murlretrieve\u001b[0;34m(url, filename, reporthook, data)\u001b[0m\n\u001b[1;32m    267\u001b[0m     reporthook(blocknum, bs, size)\n\u001b[1;32m    269\u001b[0m \u001b[39mwhile\u001b[39;00m \u001b[39mTrue\u001b[39;00m:\n\u001b[0;32m--> 270\u001b[0m     block \u001b[39m=\u001b[39m fp\u001b[39m.\u001b[39;49mread(bs)\n\u001b[1;32m    271\u001b[0m     \u001b[39mif\u001b[39;00m \u001b[39mnot\u001b[39;00m block:\n\u001b[1;32m    272\u001b[0m         \u001b[39mbreak\u001b[39;00m\n",
      "File \u001b[0;32m/opt/homebrew/Cellar/python@3.10/3.10.10_1/Frameworks/Python.framework/Versions/3.10/lib/python3.10/tempfile.py:483\u001b[0m, in \u001b[0;36m_TemporaryFileWrapper.__getattr__.<locals>.func_wrapper\u001b[0;34m(*args, **kwargs)\u001b[0m\n\u001b[1;32m    481\u001b[0m \u001b[39m@_functools\u001b[39m\u001b[39m.\u001b[39mwraps(func)\n\u001b[1;32m    482\u001b[0m \u001b[39mdef\u001b[39;00m \u001b[39mfunc_wrapper\u001b[39m(\u001b[39m*\u001b[39margs, \u001b[39m*\u001b[39m\u001b[39m*\u001b[39mkwargs):\n\u001b[0;32m--> 483\u001b[0m     \u001b[39mreturn\u001b[39;00m func(\u001b[39m*\u001b[39;49margs, \u001b[39m*\u001b[39;49m\u001b[39m*\u001b[39;49mkwargs)\n",
      "File \u001b[0;32m/opt/homebrew/Cellar/python@3.10/3.10.10_1/Frameworks/Python.framework/Versions/3.10/lib/python3.10/tempfile.py:483\u001b[0m, in \u001b[0;36m_TemporaryFileWrapper.__getattr__.<locals>.func_wrapper\u001b[0;34m(*args, **kwargs)\u001b[0m\n\u001b[1;32m    481\u001b[0m \u001b[39m@_functools\u001b[39m\u001b[39m.\u001b[39mwraps(func)\n\u001b[1;32m    482\u001b[0m \u001b[39mdef\u001b[39;00m \u001b[39mfunc_wrapper\u001b[39m(\u001b[39m*\u001b[39margs, \u001b[39m*\u001b[39m\u001b[39m*\u001b[39mkwargs):\n\u001b[0;32m--> 483\u001b[0m     \u001b[39mreturn\u001b[39;00m func(\u001b[39m*\u001b[39;49margs, \u001b[39m*\u001b[39;49m\u001b[39m*\u001b[39;49mkwargs)\n",
      "File \u001b[0;32m/opt/homebrew/Cellar/python@3.10/3.10.10_1/Frameworks/Python.framework/Versions/3.10/lib/python3.10/socket.py:705\u001b[0m, in \u001b[0;36mSocketIO.readinto\u001b[0;34m(self, b)\u001b[0m\n\u001b[1;32m    703\u001b[0m \u001b[39mwhile\u001b[39;00m \u001b[39mTrue\u001b[39;00m:\n\u001b[1;32m    704\u001b[0m     \u001b[39mtry\u001b[39;00m:\n\u001b[0;32m--> 705\u001b[0m         \u001b[39mreturn\u001b[39;00m \u001b[39mself\u001b[39;49m\u001b[39m.\u001b[39;49m_sock\u001b[39m.\u001b[39;49mrecv_into(b)\n\u001b[1;32m    706\u001b[0m     \u001b[39mexcept\u001b[39;00m timeout:\n\u001b[1;32m    707\u001b[0m         \u001b[39mself\u001b[39m\u001b[39m.\u001b[39m_timeout_occurred \u001b[39m=\u001b[39m \u001b[39mTrue\u001b[39;00m\n",
      "\u001b[0;31mKeyboardInterrupt\u001b[0m: "
     ]
    }
   ],
   "source": [
    "for doi in dois:\n",
    "    print('*** Loading for ', doi)\n",
    "    home_dir = f'./{doi}'\n",
    "    n_sample = 1000\n",
    "\n",
    "    loader = FASTQLoader(data_dir=f'{home_dir}/data', n_sample=n_sample)\n",
    "    urls = loader.fetch_ENA_urls(f'{home_dir}/info.yaml')\n",
    "\n",
    "    urls = urls[:1] # first one for testing\n",
    "\n",
    "    adatas = [loader.load(url) for url in urls]\n",
    "\n",
    "    info = loader.read_yaml(f'{doi}/info.yaml')\n",
    "    for adata in adatas:\n",
    "        adata.uns['author'] = info['author']\n",
    "        adata.uns['doi'] = info['doi_journal']\n",
    "        adata.uns['year'] = info['year']\n",
    "        adata.uns['organism'] = info['organism']\n",
    "\n",
    "    print(adatas)"
   ]
  }
 ],
 "metadata": {
  "kernelspec": {
   "display_name": "base",
   "language": "python",
   "name": "python3"
  },
  "language_info": {
   "codemirror_mode": {
    "name": "ipython",
    "version": 3
   },
   "file_extension": ".py",
   "mimetype": "text/x-python",
   "name": "python",
   "nbconvert_exporter": "python",
   "pygments_lexer": "ipython3",
   "version": "3.10.10"
  },
  "orig_nbformat": 4
 },
 "nbformat": 4,
 "nbformat_minor": 2
}
