{
 "cells": [
  {
   "cell_type": "code",
   "execution_count": 1,
   "metadata": {},
   "outputs": [],
   "source": [
    "%load_ext autoreload\n",
    "from loader import FASTQLoader\n",
    "import os"
   ]
  },
  {
   "attachments": {},
   "cell_type": "markdown",
   "metadata": {},
   "source": [
    "Fetch DOIs (directories that begin with `'10'`) in the given directory."
   ]
  },
  {
   "cell_type": "code",
   "execution_count": 8,
   "metadata": {},
   "outputs": [
    {
     "data": {
      "text/plain": [
       "['10_1038_nature15518',\n",
       " '10_1038_s41587_022_01307_0',\n",
       " '10_1016_j_cell_2012_12_009',\n",
       " '10_15252_msb_20167238']"
      ]
     },
     "execution_count": 8,
     "metadata": {},
     "output_type": "execute_result"
    }
   ],
   "source": [
    "dois = [d for d in os.listdir('.') if d[:2] == '10']\n",
    "dois"
   ]
  },
  {
   "cell_type": "code",
   "execution_count": 7,
   "metadata": {},
   "outputs": [
    {
     "name": "stdout",
     "output_type": "stream",
     "text": [
      "*** Loading for  10_1038_nature15518\n",
      "Downloading PRJEB7934.tsv...\n",
      "Downloading from ftp.sra.ebi.ac.uk/vol1/run/ERR135/ERR1359225/LoVo_HOXB13_sorted.bam.fastq.gz\n",
      "Done.\n",
      "[AnnData object with n_obs × n_vars = 312 × 1\n",
      "    uns: 'author', 'doi', 'year', 'organism']\n",
      "*** Loading for  10_1038_s41587_022_01307_0\n",
      "Downloading PRJEB7372.tsv...\n",
      "Downloading from ftp.sra.ebi.ac.uk/vol1/run/ERR636/ERR636571/K562_GR_chip-seq_rep1.fq.gz\n",
      "Done.\n",
      "[AnnData object with n_obs × n_vars = 977 × 1\n",
      "    uns: 'author', 'doi', 'year', 'organism']\n",
      "*** Loading for  10_1016_j_cell_2012_12_009\n",
      "Downloading PRJEB3291.tsv...\n",
      "Downloading PRJEB3289.tsv...\n",
      "Downloading from ftp.sra.ebi.ac.uk/vol1/run/ERR181/ERR181163/LoVo_E2F7_Rabbit_0.fastq.gz\n",
      "Done.\n",
      "[AnnData object with n_obs × n_vars = 996 × 1\n",
      "    uns: 'author', 'doi', 'year', 'organism']\n",
      "*** Loading for  10_15252_msb_20167238\n",
      "Downloading PRJEB14744.tsv...\n",
      "Downloading from ftp.sra.ebi.ac.uk/vol1/run/ERR153/ERR1535464/Alx1_ESZ_TAAAGC20NCG_1.txt.gz\n",
      "Done.\n",
      "[AnnData object with n_obs × n_vars = 998 × 1\n",
      "    uns: 'author', 'doi', 'year', 'organism']\n"
     ]
    }
   ],
   "source": [
    "for doi in dois:\n",
    "    print('*** Loading for ', doi)\n",
    "    home_dir = f'./{doi}'\n",
    "    n_sample = 1000\n",
    "\n",
    "    loader = FASTQLoader(data_dir=f'{home_dir}/data', n_sample=n_sample)\n",
    "    urls = loader.fetch_ENA_urls(f'{home_dir}/info.yaml')\n",
    "\n",
    "    urls = urls[:1] # first one for testing\n",
    "\n",
    "    adatas = [loader.load(url) for url in urls]\n",
    "\n",
    "    info = loader.read_yaml(f'{doi}/info.yaml')\n",
    "    for adata in adatas:\n",
    "        adata.uns['author'] = info['author']\n",
    "        adata.uns['doi'] = info['doi_journal']\n",
    "        adata.uns['year'] = info['year']\n",
    "        adata.uns['organism'] = info['organism']\n",
    "\n",
    "    print(adatas)"
   ]
  }
 ],
 "metadata": {
  "kernelspec": {
   "display_name": "base",
   "language": "python",
   "name": "python3"
  },
  "language_info": {
   "codemirror_mode": {
    "name": "ipython",
    "version": 3
   },
   "file_extension": ".py",
   "mimetype": "text/x-python",
   "name": "python",
   "nbconvert_exporter": "python",
   "pygments_lexer": "ipython3",
   "version": "3.9.13"
  },
  "orig_nbformat": 4
 },
 "nbformat": 4,
 "nbformat_minor": 2
}
